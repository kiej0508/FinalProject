{
 "cells": [
  {
   "cell_type": "code",
   "execution_count": 2,
   "metadata": {},
   "outputs": [],
   "source": [
    "import requests, pymysql, math, re, time, csv\n",
    "from bs4 import BeautifulSoup"
   ]
  },
  {
   "cell_type": "code",
   "execution_count": 3,
   "metadata": {},
   "outputs": [],
   "source": [
    "## 회사 코드 csv불러오기 ##\n",
    "\n",
    "companycode=list()\n",
    "with open(\"companycode.csv\",'r') as f:\n",
    "    reader = csv.reader(f)\n",
    "    \n",
    "    for code in reader:\n",
    "        companycode.append(code[0])\n",
    "total = len(companycode)"
   ]
  },
  {
   "cell_type": "code",
   "execution_count": 4,
   "metadata": {},
   "outputs": [],
   "source": [
    "## 회사 정보 크롤링 함수 ##\n",
    "\n",
    "def crawl(code):\n",
    "    url = \"https://thevc.kr/\"\n",
    "    html = \"\"\n",
    "    req = requests.get(url+code)\n",
    "    if req.status_code == 200 :\n",
    "        html = req.text\n",
    "    soup = BeautifulSoup(html, 'html.parser')\n",
    "    \n",
    "    brand = []    \n",
    "    brd_code = code\n",
    "    brd_link = str()\n",
    "    service_link = str()\n",
    "    service_name = str()\n",
    "    service_info = str()\n",
    "    service_detail = str()\n",
    "    \n",
    "    for info in soup.find_all(\"div\", class_=\"contact_info info_box\"):\n",
    "        for span in info.find_all(\"span\"):\n",
    "            href = span.find(\"a\").get(\"href\")\n",
    "            if href[0:4] == \"http\":\n",
    "                brd_link = href\n",
    "    \n",
    "    for prdt in soup.find_all(\"div\", class_=\"info_box product_box\"):\n",
    "        name=prdt.find(\"span\", class_=\"product_name\")\n",
    "        if name!=None:\n",
    "            service_name=name.text\n",
    "        else:\n",
    "            service_name=None\n",
    "            \n",
    "        link = prdt.find(\"a\", class_=\"product_link\")\n",
    "        if link!=None:\n",
    "            service_link=link.get(\"href\")\n",
    "        else:\n",
    "            service_link=None\n",
    "            \n",
    "        detail=prdt.find(\"p\")\n",
    "        if detail!=None:\n",
    "            detail=str(detail).replace('<p>','').replace('</p>','').replace('<span>','{').replace('</span>','}').strip()\n",
    "            service_detail=detail\n",
    "        else:\n",
    "            service_detail=None\n",
    "\n",
    "        for span in prdt.select(\"div > span\"):\n",
    "            class_=span.get(\"class\")\n",
    "            if class_==None:\n",
    "                service_info=span.text\n",
    "            else:\n",
    "                service_info=None\n",
    "        \n",
    "        brand.append([brd_code, brd_link, service_link, service_name, service_info, service_detail])\n",
    "    \n",
    "    return brand"
   ]
  },
  {
   "cell_type": "code",
   "execution_count": 5,
   "metadata": {
    "scrolled": true
   },
   "outputs": [],
   "source": [
    "## 회사 정보 배열 ##\n",
    "\n",
    "comp_info = list()\n",
    "cnt=0"
   ]
  },
  {
   "cell_type": "code",
   "execution_count": 9,
   "metadata": {
    "scrolled": true
   },
   "outputs": [
    {
     "name": "stdout",
     "output_type": "stream",
     "text": [
      "2007 中 510 개 완료\n",
      "2007 中 520 개 완료\n",
      "2007 中 530 개 완료\n",
      "2007 中 540 개 완료\n",
      "2007 中 550 개 완료\n",
      "2007 中 560 개 완료\n",
      "2007 中 570 개 완료\n",
      "2007 中 580 개 완료\n",
      "2007 中 590 개 완료\n",
      "2007 中 600 개 완료\n",
      "2007 中 610 개 완료\n",
      "2007 中 620 개 완료\n",
      "2007 中 630 개 완료\n",
      "2007 中 640 개 완료\n",
      "2007 中 650 개 완료\n",
      "2007 中 660 개 완료\n",
      "2007 中 670 개 완료\n",
      "2007 中 680 개 완료\n",
      "2007 中 690 개 완료\n",
      "2007 中 700 개 완료\n",
      "2007 中 710 개 완료\n",
      "2007 中 720 개 완료\n",
      "2007 中 730 개 완료\n",
      "2007 中 740 개 완료\n",
      "2007 中 750 개 완료\n",
      "2007 中 760 개 완료\n",
      "2007 中 770 개 완료\n",
      "2007 中 780 개 완료\n",
      "2007 中 790 개 완료\n",
      "2007 中 800 개 완료\n",
      "2007 中 810 개 완료\n",
      "2007 中 820 개 완료\n",
      "2007 中 830 개 완료\n",
      "2007 中 840 개 완료\n",
      "2007 中 850 개 완료\n",
      "2007 中 860 개 완료\n",
      "2007 中 870 개 완료\n",
      "2007 中 880 개 완료\n",
      "2007 中 890 개 완료\n",
      "2007 中 900 개 완료\n",
      "2007 中 910 개 완료\n",
      "2007 中 920 개 완료\n",
      "2007 中 930 개 완료\n",
      "2007 中 940 개 완료\n",
      "2007 中 950 개 완료\n",
      "2007 中 960 개 완료\n",
      "2007 中 970 개 완료\n",
      "2007 中 980 개 완료\n",
      "2007 中 990 개 완료\n",
      "2007 中 1000 개 완료\n",
      "--- 2309.59 seconds ---\n"
     ]
    }
   ],
   "source": [
    "## 크롤링 함수 실행 ##\n",
    "startTime = time.time()\n",
    "\n",
    "for comp in companycode[986:]:\n",
    "    craw_comp = crawl(comp)\n",
    "    comp_info+=craw_comp\n",
    "    cnt+=1\n",
    "    if cnt%10==0:\n",
    "        print(total, \"中\", cnt, '개 완료')\n",
    "\n",
    "print(\"--- {0:.2f} seconds ---\".format(time.time() - startTime))"
   ]
  },
  {
   "cell_type": "code",
   "execution_count": 10,
   "metadata": {
    "scrolled": true
   },
   "outputs": [
    {
     "name": "stdout",
     "output_type": "stream",
     "text": [
      "1916\n"
     ]
    }
   ],
   "source": [
    "print(len(comp_info))\n",
    "# comp_info"
   ]
  },
  {
   "cell_type": "code",
   "execution_count": 12,
   "metadata": {},
   "outputs": [],
   "source": [
    "## 중간 저장 (985까지 완료) ##\n",
    "\n",
    "comp_info2csv = open('company-infomation_0-986.csv', 'w', newline='', encoding='UTF8')\n",
    "\n",
    "csvwriter = csv.writer(comp_info2csv)\n",
    "for row in comp_info:\n",
    "    csvwriter.writerow(row)\n",
    "\n",
    "comp_info2csv.close()"
   ]
  },
  {
   "cell_type": "code",
   "execution_count": null,
   "metadata": {},
   "outputs": [],
   "source": []
  },
  {
   "cell_type": "code",
   "execution_count": null,
   "metadata": {},
   "outputs": [],
   "source": []
  },
  {
   "cell_type": "code",
   "execution_count": null,
   "metadata": {},
   "outputs": [],
   "source": []
  },
  {
   "cell_type": "code",
   "execution_count": null,
   "metadata": {},
   "outputs": [],
   "source": []
  },
  {
   "cell_type": "code",
   "execution_count": null,
   "metadata": {},
   "outputs": [],
   "source": []
  },
  {
   "cell_type": "code",
   "execution_count": null,
   "metadata": {},
   "outputs": [],
   "source": []
  },
  {
   "cell_type": "code",
   "execution_count": null,
   "metadata": {},
   "outputs": [],
   "source": []
  },
  {
   "cell_type": "code",
   "execution_count": null,
   "metadata": {},
   "outputs": [],
   "source": []
  },
  {
   "cell_type": "code",
   "execution_count": null,
   "metadata": {},
   "outputs": [],
   "source": []
  }
 ],
 "metadata": {
  "kernelspec": {
   "display_name": "Python 3",
   "language": "python",
   "name": "python3"
  },
  "language_info": {
   "codemirror_mode": {
    "name": "ipython",
    "version": 3
   },
   "file_extension": ".py",
   "mimetype": "text/x-python",
   "name": "python",
   "nbconvert_exporter": "python",
   "pygments_lexer": "ipython3",
   "version": "3.7.4"
  }
 },
 "nbformat": 4,
 "nbformat_minor": 4
}
