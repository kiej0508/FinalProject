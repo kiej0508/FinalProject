{
 "cells": [
  {
   "cell_type": "code",
   "execution_count": 1,
   "metadata": {},
   "outputs": [],
   "source": [
    "import requests, pymysql, math, re, time, csv\n",
    "from bs4 import BeautifulSoup"
   ]
  },
  {
   "cell_type": "code",
   "execution_count": 2,
   "metadata": {},
   "outputs": [],
   "source": [
    "## 회사 코드 csv불러오기 ##\n",
    "\n",
    "companycode=list()\n",
    "with open(\"companycode.csv\",'r') as f:\n",
    "    reader = csv.reader(f)\n",
    "    \n",
    "    for code in reader:\n",
    "        companycode.append(code[0])\n",
    "total = len(companycode)"
   ]
  },
  {
   "cell_type": "code",
   "execution_count": 3,
   "metadata": {},
   "outputs": [],
   "source": [
    "## 회사 정보 크롤링 함수 ##\n",
    "\n",
    "def crawl(code):\n",
    "    url = \"https://thevc.kr/\"\n",
    "    html = \"\"\n",
    "    req = requests.get(url+code)\n",
    "    if req.status_code == 200 :\n",
    "        html = req.text\n",
    "    soup = BeautifulSoup(html, 'html.parser')\n",
    "    \n",
    "    brand = []    \n",
    "    brd_code = code\n",
    "    brd_link = str()\n",
    "    service_link = str()\n",
    "    service_name = str()\n",
    "    service_info = str()\n",
    "    service_detail = str()\n",
    "    \n",
    "    for info in soup.find_all(\"div\", class_=\"contact_info info_box\"):\n",
    "        for span in info.find_all(\"span\"):\n",
    "            href = span.find(\"a\").get(\"href\")\n",
    "            if href[0:4] == \"http\":\n",
    "                brd_link = href\n",
    "    \n",
    "    for prdt in soup.find_all(\"div\", class_=\"info_box product_box\"):\n",
    "        name=prdt.find(\"span\", class_=\"product_name\")\n",
    "        if name!=None:\n",
    "            service_name=name.text\n",
    "        else:\n",
    "            service_name=None\n",
    "            \n",
    "        link = prdt.find(\"a\", class_=\"product_link\")\n",
    "        if link!=None:\n",
    "            service_link=link.get(\"href\")\n",
    "        else:\n",
    "            service_link=None\n",
    "            \n",
    "        detail=prdt.find(\"p\")\n",
    "        if detail!=None:\n",
    "            detail=str(detail).replace('<p>','').replace('</p>','').replace('<span>','{').replace('</span>','}').strip()\n",
    "            service_detail=detail\n",
    "        else:\n",
    "            service_detail=None\n",
    "\n",
    "        for span in prdt.select(\"div > span\"):\n",
    "            class_=span.get(\"class\")\n",
    "            if class_==None:\n",
    "                service_info=span.text\n",
    "            else:\n",
    "                service_info=None\n",
    "        \n",
    "        brand.append([brd_code, brd_link, service_link, service_name, service_info, service_detail])\n",
    "    \n",
    "    return brand"
   ]
  },
  {
   "cell_type": "code",
   "execution_count": 4,
   "metadata": {
    "scrolled": true
   },
   "outputs": [],
   "source": [
    "## 회사 정보 배열 ##\n",
    "\n",
    "comp_info = list()\n",
    "cnt=0"
   ]
  },
  {
   "cell_type": "code",
   "execution_count": 13,
   "metadata": {
    "scrolled": true
   },
   "outputs": [
    {
     "name": "stdout",
     "output_type": "stream",
     "text": [
      "2007 中 420 개 완료\n",
      "2007 中 430 개 완료\n",
      "2007 中 440 개 완료\n",
      "2007 中 450 개 완료\n",
      "2007 中 460 개 완료\n",
      "2007 中 470 개 완료\n",
      "2007 中 480 개 완료\n",
      "2007 中 490 개 완료\n",
      "2007 中 500 개 완료\n",
      "2007 中 510 개 완료\n",
      "--- 5.45 seconds ---\n"
     ]
    }
   ],
   "source": [
    "## 크롤링 함수 실행 ##\n",
    "startTime = time.time()\n",
    "\n",
    "for comp in companycode[1400:1500]:\n",
    "    craw_comp = crawl(comp)\n",
    "    comp_info+=craw_comp\n",
    "    cnt+=1\n",
    "    if cnt%10==0:\n",
    "        print(total, \"中\", cnt, '개 완료')\n",
    "\n",
    "print(\"--- {0:.2f} seconds ---\".format(time.time() - startTime))"
   ]
  },
  {
   "cell_type": "code",
   "execution_count": 14,
   "metadata": {
    "scrolled": true
   },
   "outputs": [
    {
     "name": "stdout",
     "output_type": "stream",
     "text": [
      "795\n"
     ]
    }
   ],
   "source": [
    "print(len(comp_info))\n",
    "# comp_info"
   ]
  },
  {
   "cell_type": "code",
   "execution_count": 15,
   "metadata": {},
   "outputs": [],
   "source": [
    "## 중간 저장 (985까지 완료) ##\n",
    "\n",
    "comp_info2csv = open('company-infomation_987-1400.csv', 'w', newline='', encoding='UTF8')\n",
    "\n",
    "csvwriter = csv.writer(comp_info2csv)\n",
    "for row in comp_info:\n",
    "    csvwriter.writerow(row)\n",
    "\n",
    "comp_info2csv.close()"
   ]
  },
  {
   "cell_type": "code",
   "execution_count": null,
   "metadata": {},
   "outputs": [],
   "source": []
  },
  {
   "cell_type": "code",
   "execution_count": null,
   "metadata": {},
   "outputs": [],
   "source": []
  },
  {
   "cell_type": "code",
   "execution_count": null,
   "metadata": {},
   "outputs": [],
   "source": []
  },
  {
   "cell_type": "code",
   "execution_count": null,
   "metadata": {},
   "outputs": [],
   "source": []
  },
  {
   "cell_type": "code",
   "execution_count": null,
   "metadata": {},
   "outputs": [],
   "source": []
  },
  {
   "cell_type": "code",
   "execution_count": null,
   "metadata": {},
   "outputs": [],
   "source": []
  },
  {
   "cell_type": "code",
   "execution_count": null,
   "metadata": {},
   "outputs": [],
   "source": []
  },
  {
   "cell_type": "code",
   "execution_count": null,
   "metadata": {},
   "outputs": [],
   "source": []
  },
  {
   "cell_type": "code",
   "execution_count": null,
   "metadata": {},
   "outputs": [],
   "source": []
  }
 ],
 "metadata": {
  "kernelspec": {
   "display_name": "Python 3",
   "language": "python",
   "name": "python3"
  },
  "language_info": {
   "codemirror_mode": {
    "name": "ipython",
    "version": 3
   },
   "file_extension": ".py",
   "mimetype": "text/x-python",
   "name": "python",
   "nbconvert_exporter": "python",
   "pygments_lexer": "ipython3",
   "version": "3.7.4"
  }
 },
 "nbformat": 4,
 "nbformat_minor": 4
}
