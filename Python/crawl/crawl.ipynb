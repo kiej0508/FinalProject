{
 "cells": [
  {
   "cell_type": "code",
   "execution_count": 6,
   "metadata": {},
   "outputs": [],
   "source": [
    "import requests, pymysql, math, re, time, csv\n",
    "from bs4 import BeautifulSoup"
   ]
  },
  {
   "cell_type": "code",
   "execution_count": 13,
   "metadata": {},
   "outputs": [],
   "source": [
    "companycode=list()\n",
    "with open(\"companycode.csv\",'r') as f:\n",
    "    reader = csv.reader(f)\n",
    "    \n",
    "    for code in reader:\n",
    "        companycode.append(code[0])"
   ]
  },
  {
   "cell_type": "code",
   "execution_count": 65,
   "metadata": {},
   "outputs": [],
   "source": [
    "def crawl(code):\n",
    "    \n",
    "    url = \"https://thevc.kr/\"\n",
    "    \n",
    "    html = \"\"\n",
    "    req = requests.get(url+code)\n",
    "    if req.status_code == 200 :\n",
    "        html = req.text\n",
    "\n",
    "    soup = BeautifulSoup(html, 'html.parser')\n",
    "    print(\"brand_list [HTTP Status : {}]\".format(req))\n",
    "    \n",
    "    brand = []    \n",
    "    brd_code = code\n",
    "    brd_link = str()\n",
    "    service_link = str()\n",
    "    service_name = str()\n",
    "    service_info = str()\n",
    "    service_detail = str()\n",
    "    \n",
    "    for info in soup.find_all(\"div\", class_=\"contact_info info_box\"):\n",
    "        for span in info.find_all(\"span\"):\n",
    "            href = span.find(\"a\").get(\"href\")\n",
    "            if href[0:4] == \"http\":\n",
    "                brd_link = href\n",
    "    \n",
    "    for prdt in soup.find_all(\"div\", class_=\"info_box product_box\"):\n",
    "        print(prdt)\n",
    "#         rank = inner.find(\"p\", class_=\"n-label label-default txt_num_rank\").text\n",
    "#         brand.append([\"brd_rank\", str(rank[:rank.index(\"위\")].strip())])\n",
    "#         brand.append([\"brd_code\", inner.find(\"p\", class_=\"brand_name\").find(\"a\").get(\"href\")[22:].strip()])\n",
    "#         brand.append([\"brd_name_eng\", inner.find(\"p\", class_=\"brand_name_en\").text.strip()])\n",
    "\n",
    "#         dict_brand = dict(brand)\n",
    "        \n",
    "#         sql = \"INSERT INTO BRAND_RANK(BRD_CODE, BRD_NAME_ENG, BRD_RANK) VALUES(\"\\\n",
    "#                      + \"'\" + dict_brand.get(\"brd_code\", '오류') +\"'\" +  \",\"\\\n",
    "#                      + \"'\" + dict_brand.get(\"brd_name_eng\", '오류') +\"'\" +  \",\"\\\n",
    "#                      + \"'\" + dict_brand.get(\"brd_rank\", '오류') +\"'\" + \");\"\n",
    "        \n",
    "#         print(sql)\n",
    "    \n",
    "#     brand = [brd_code, brd_link, service_link, service_name, service_info, service_detail]\n",
    "    \n",
    "    return brd_code, brd_link"
   ]
  },
  {
   "cell_type": "code",
   "execution_count": 66,
   "metadata": {
    "scrolled": true
   },
   "outputs": [
    {
     "name": "stdout",
     "output_type": "stream",
     "text": [
      "brand_list [HTTP Status : <Response [200]>]\n",
      "<div class=\"info_box product_box\">\n",
      "<a class=\"product_link\" href=\"https://channel.io/ko\" style=\"background-image: url(https://d1vv4p3ixxyri0.cloudfront.net/layout/profile_url.png)\" target=\"_blank\"></a>\n",
      "<div class=\"img_wrapper\">\n",
      "<a href=\"https://channel.io/ko\" onclick=\"ga('send','event','회사프로필/대시보드/서비스_제품','회사프로필/대시보드/서비스_제품/클릭')\" target=\"_blank\">\n",
      "<img alt=\"채널톡\" data-category=\"product\" onerror=\"this.src='https://d1vv4p3ixxyri0.cloudfront.net/product_logo/default_product_logo.png'\" src=\"https://d1vv4p3ixxyri0.cloudfront.net/product_logo/9e81b5928c09991c7e1273db6eb4611c7f07fc2e7ed259dc63de03ad02b82e6e_1556155910513277.jpg\"/>\n",
      "</a>\n",
      "</div>\n",
      "<div class=\"info_wrapper\">\n",
      "<a href=\"https://channel.io/ko\" onclick=\"ga('send','event','회사프로필/대시보드/서비스_제품','회사프로필/대시보드/서비스_제품/클릭')\" target=\"_blank\">\n",
      "<span class=\"product_name\">채널톡 </span>\n",
      "<span class=\"product_name\"> (Channel Talk)</span>\n",
      "</a>\n",
      "<span class=\"product_name\" style=\"-webkit-text-fill-color: #38d544;\"> (운영중)</span>\n",
      "<p><span>리얼타임 커뮤니케이션</span> 기술 기반의 <span>기업</span> ∙ <span>고객관리</span> 분야에서 <span>API/SDK</span> 형태로 <span>Online</span> ∙ <span>지원</span> 합니다 </p>\n",
      "<span>고객 획득 메신저</span>\n",
      "</div>\n",
      "</div>\n",
      "<div class=\"info_box product_box\">\n",
      "<a class=\"product_link\" href=\"https://walkinsights.com/\" style=\"background-image: url(https://d1vv4p3ixxyri0.cloudfront.net/layout/profile_url.png)\" target=\"_blank\"></a>\n",
      "<div class=\"img_wrapper\">\n",
      "<a href=\"https://walkinsights.com/\" onclick=\"ga('send','event','회사프로필/대시보드/서비스_제품','회사프로필/대시보드/서비스_제품/클릭')\" target=\"_blank\">\n",
      "<img alt=\"워크인사이트\" data-category=\"product\" onerror=\"this.src='https://d1vv4p3ixxyri0.cloudfront.net/product_logo/default_product_logo.png'\" src=\"https://d1vv4p3ixxyri0.cloudfront.net/product_logo/b2d1a034140b09b4f8beb1db44e4fd42c4e75088994ccb4c2006c4dffbe84438_1508373883499661.jpg\"/>\n",
      "</a>\n",
      "</div>\n",
      "<div class=\"info_wrapper\">\n",
      "<a href=\"https://walkinsights.com/\" onclick=\"ga('send','event','회사프로필/대시보드/서비스_제품','회사프로필/대시보드/서비스_제품/클릭')\" target=\"_blank\">\n",
      "<span class=\"product_name\">워크인사이트 </span>\n",
      "<span class=\"product_name\"> (Walk Insights)</span>\n",
      "</a>\n",
      "<span class=\"product_name\" style=\"-webkit-text-fill-color: #38d544;\"> (운영중)</span>\n",
      "<p><span>사물인터넷/센서</span> 기술 기반의 <span>광고마케팅</span> ∙ <span>마케팅분석</span> 분야에서 <span>하드웨어</span> 형태로 <span>O2O</span> ∙ <span>연구/분석</span> 합니다 </p>\n",
      "<span>오프라인 매장 고객 분석 서비스</span>\n",
      "</div>\n",
      "</div>\n",
      "<div class=\"info_box product_box\">\n",
      "<div class=\"info_wrapper\">\n",
      "<div class=\"pre_tags_wrap profile_tags\">\n",
      "<a href=\"/auth/login\" onclick=\"ga('send','event', '회사프로필/대시보드/사업종류', '회사프로필/대시보드/사업종류/로그인');\">\n",
      "<div class=\"pre_tag\">\n",
      "<span class=\"pre_tag_title\" style=\"filter: blur(2px);\">soluta</span>\n",
      "</div>\n",
      "</a>\n",
      "<a href=\"/auth/login\" onclick=\"ga('send','event', '회사프로필/대시보드/사업종류', '회사프로필/대시보드/사업종류/로그인');\">\n",
      "<div class=\"pre_tag\">\n",
      "<span class=\"pre_tag_title\" style=\"filter: blur(2px);\">aperiam</span>\n",
      "</div>\n",
      "</a>\n",
      "<a href=\"/auth/login\" onclick=\"ga('send','event', '회사프로필/대시보드/사업종류', '회사프로필/대시보드/사업종류/로그인');\">\n",
      "<div class=\"pre_tag\">\n",
      "<span class=\"pre_tag_title\" style=\"filter: blur(2px);\">consequuntur</span>\n",
      "</div>\n",
      "</a>\n",
      "<a href=\"/auth/login\" onclick=\"ga('send','event', '회사프로필/대시보드/사업종류', '회사프로필/대시보드/사업종류/로그인');\">\n",
      "<div class=\"pre_tag\">\n",
      "<span class=\"pre_tag_title\" style=\"filter: blur(2px);\">quibusdam</span>\n",
      "</div>\n",
      "</a>\n",
      "<a href=\"/auth/login\" onclick=\"ga('send','event', '회사프로필/대시보드/사업종류', '회사프로필/대시보드/사업종류/로그인');\">\n",
      "<div class=\"pre_tag\">\n",
      "<span class=\"pre_tag_title\" style=\"filter: blur(2px);\">facilis</span>\n",
      "</div>\n",
      "</a>\n",
      "<a href=\"/auth/login\" onclick=\"ga('send','event', '회사프로필/대시보드/사업종류', '회사프로필/대시보드/사업종류/로그인');\">\n",
      "<div class=\"pre_tag\">\n",
      "<span class=\"pre_tag_title\" style=\"filter: blur(2px);\">pariatur</span>\n",
      "</div>\n",
      "</a>\n",
      "<a href=\"/auth/login\" onclick=\"ga('send','event', '회사프로필/대시보드/사업종류', '회사프로필/대시보드/사업종류/로그인');\">\n",
      "<div class=\"pre_tag\">\n",
      "<span class=\"pre_tag_title\" style=\"filter: blur(2px);\">architecto</span>\n",
      "</div>\n",
      "</a>\n",
      "<a href=\"/auth/login\" onclick=\"ga('send','event', '회사프로필/대시보드/사업종류', '회사프로필/대시보드/사업종류/로그인');\">\n",
      "<div class=\"pre_tag\">\n",
      "<span class=\"pre_tag_title\" style=\"filter: blur(2px);\">quia</span>\n",
      "</div>\n",
      "</a>\n",
      "<a href=\"/auth/login\" onclick=\"ga('send','event', '회사프로필/대시보드/사업종류', '회사프로필/대시보드/사업종류/로그인');\">\n",
      "<div class=\"pre_tag\">\n",
      "<span class=\"pre_tag_title\" style=\"filter: blur(2px);\">minima</span>\n",
      "</div>\n",
      "</a>\n",
      "<a href=\"/auth/login\" onclick=\"ga('send','event', '회사프로필/대시보드/사업종류', '회사프로필/대시보드/사업종류/로그인');\">\n",
      "<div class=\"pre_tag\">\n",
      "<span class=\"pre_tag_title\" style=\"filter: blur(2px);\">delectus</span>\n",
      "</div>\n",
      "</a>\n",
      "<a href=\"/auth/login\" onclick=\"ga('send','event', '회사프로필/대시보드/사업종류', '회사프로필/대시보드/사업종류/로그인');\">\n",
      "<div class=\"pre_tag\">\n",
      "<span class=\"pre_tag_title\" style=\"filter: blur(2px);\">cum</span>\n",
      "</div>\n",
      "</a>\n",
      "<a href=\"/auth/login\" onclick=\"ga('send','event', '회사프로필/대시보드/사업종류', '회사프로필/대시보드/사업종류/로그인');\">\n",
      "<div class=\"pre_tag\">\n",
      "<span class=\"pre_tag_title\" style=\"filter: blur(2px);\">quidem</span>\n",
      "</div>\n",
      "</a>\n",
      "<a href=\"/auth/login\" onclick=\"ga('send','event', '회사프로필/대시보드/사업종류', '회사프로필/대시보드/사업종류/로그인');\">\n",
      "<div class=\"pre_tag\">\n",
      "<span class=\"pre_tag_title\" style=\"filter: blur(2px);\">aliquid</span>\n",
      "</div>\n",
      "</a>\n",
      "<a href=\"/auth/login\" onclick=\"ga('send','event', '회사프로필/대시보드/사업종류', '회사프로필/대시보드/사업종류/로그인');\">\n",
      "<div class=\"pre_tag\">\n",
      "<span class=\"pre_tag_title\" style=\"filter: blur(2px);\">temporibus</span>\n",
      "</div>\n",
      "</a>\n",
      "<a href=\"/auth/login\" onclick=\"ga('send','event', '회사프로필/대시보드/사업종류', '회사프로필/대시보드/사업종류/로그인');\">\n",
      "<div class=\"pre_tag\">\n",
      "<span class=\"pre_tag_title\" style=\"filter: blur(2px);\">rerum</span>\n",
      "</div>\n",
      "</a>\n",
      "<a href=\"/auth/login\" onclick=\"ga('send','event', '회사프로필/대시보드/사업종류', '회사프로필/대시보드/사업종류/로그인');\">\n",
      "<div class=\"pre_tag\">\n",
      "<span class=\"pre_tag_title\" style=\"filter: blur(2px);\">accusamus</span>\n",
      "</div>\n",
      "</a>\n",
      "</div>\n",
      "</div>\n",
      "</div>\n"
     ]
    },
    {
     "data": {
      "text/plain": [
       "('ChannelCorporation', 'https://channel.io')"
      ]
     },
     "execution_count": 66,
     "metadata": {},
     "output_type": "execute_result"
    }
   ],
   "source": [
    "crawl('ChannelCorporation')"
   ]
  },
  {
   "cell_type": "code",
   "execution_count": null,
   "metadata": {},
   "outputs": [],
   "source": []
  },
  {
   "cell_type": "code",
   "execution_count": null,
   "metadata": {},
   "outputs": [],
   "source": []
  },
  {
   "cell_type": "code",
   "execution_count": null,
   "metadata": {},
   "outputs": [],
   "source": []
  },
  {
   "cell_type": "code",
   "execution_count": null,
   "metadata": {},
   "outputs": [],
   "source": []
  },
  {
   "cell_type": "code",
   "execution_count": null,
   "metadata": {},
   "outputs": [],
   "source": []
  },
  {
   "cell_type": "code",
   "execution_count": null,
   "metadata": {},
   "outputs": [],
   "source": []
  },
  {
   "cell_type": "code",
   "execution_count": null,
   "metadata": {},
   "outputs": [],
   "source": []
  },
  {
   "cell_type": "code",
   "execution_count": null,
   "metadata": {},
   "outputs": [],
   "source": []
  },
  {
   "cell_type": "code",
   "execution_count": null,
   "metadata": {},
   "outputs": [],
   "source": []
  },
  {
   "cell_type": "code",
   "execution_count": null,
   "metadata": {},
   "outputs": [],
   "source": []
  },
  {
   "cell_type": "code",
   "execution_count": null,
   "metadata": {},
   "outputs": [],
   "source": []
  },
  {
   "cell_type": "code",
   "execution_count": null,
   "metadata": {},
   "outputs": [],
   "source": []
  },
  {
   "cell_type": "code",
   "execution_count": null,
   "metadata": {},
   "outputs": [],
   "source": []
  },
  {
   "cell_type": "code",
   "execution_count": null,
   "metadata": {},
   "outputs": [],
   "source": []
  },
  {
   "cell_type": "code",
   "execution_count": null,
   "metadata": {},
   "outputs": [],
   "source": []
  }
 ],
 "metadata": {
  "kernelspec": {
   "display_name": "Python 3",
   "language": "python",
   "name": "python3"
  },
  "language_info": {
   "codemirror_mode": {
    "name": "ipython",
    "version": 3
   },
   "file_extension": ".py",
   "mimetype": "text/x-python",
   "name": "python",
   "nbconvert_exporter": "python",
   "pygments_lexer": "ipython3",
   "version": "3.7.7"
  }
 },
 "nbformat": 4,
 "nbformat_minor": 4
}
