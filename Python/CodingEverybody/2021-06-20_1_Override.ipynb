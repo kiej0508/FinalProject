{
 "cells": [
  {
   "cell_type": "markdown",
   "metadata": {},
   "source": [
    "## Override (a.k.a 재정의)\n",
    "\n",
    "1. 오버라이드의 소개   \n",
    "    - 객체 안의 메소드의 형태를 가진 기능들\n",
    "    - 새로운 객체를 만드는데 기존 객체의 기능을 물려받는 것이 상속(Inheritance)\n",
    "    - 부모 객체의 특정 기능을 자식 객체에 같은 이름으로 재정의하는 것이 Override"
   ]
  },
  {
   "cell_type": "code",
   "execution_count": 1,
   "metadata": {},
   "outputs": [
    {
     "name": "stdout",
     "output_type": "stream",
     "text": [
      "parent\n"
     ]
    }
   ],
   "source": [
    "### 부모 클래스 먼저 만들죠\n",
    "\n",
    "class C1:\n",
    "    def m(self):\n",
    "        return 'parent'\n",
    "\n",
    "### 상속받습니다\n",
    "\n",
    "class C2(C1):\n",
    "    pass\n",
    "\n",
    "o = C2()\n",
    "print(o.m())\n",
    "'→ parent 출력'"
   ]
  },
  {
   "cell_type": "code",
   "execution_count": 2,
   "metadata": {},
   "outputs": [
    {
     "name": "stdout",
     "output_type": "stream",
     "text": [
      "child\n"
     ]
    }
   ],
   "source": [
    "### 자식 클래스에서 재정의해봅니다.\n",
    "\n",
    "class C2(C1):\n",
    "    def m(self):\n",
    "        return 'child'\n",
    "    pass\n",
    "\n",
    "o = C2()\n",
    "print(o.m())\n",
    "'→ child 출력'"
   ]
  },
  {
   "cell_type": "code",
   "execution_count": 4,
   "metadata": {},
   "outputs": [
    {
     "name": "stdout",
     "output_type": "stream",
     "text": [
      "parent child\n"
     ]
    }
   ],
   "source": [
    "### 부모 클래스의 원 기능을 사용하고 싶으면 어떻게 할까요?\n",
    "### 부모 클래스의 메소드를 자식 클래스에서 호출해야합니다\n",
    "\n",
    "class C2(C1):\n",
    "    def m(self):\n",
    "        return super().m() + ' child'#super() = 부모클래스를 의미\n",
    "    pass\n",
    "\n",
    "o = C2()\n",
    "print(o.m())\n",
    "# → child 출력"
   ]
  },
  {
   "cell_type": "markdown",
   "metadata": {},
   "source": [
    "## Override의 활용"
   ]
  },
  {
   "cell_type": "code",
   "execution_count": 14,
   "metadata": {},
   "outputs": [],
   "source": [
    "### 지난 예제 복붙 ###\n",
    "\n",
    "class Cal(object):\n",
    "    _history = []\n",
    "    def __init__(self, v1, v2):\n",
    "        if isinstance(v1, int):\n",
    "            self.v1 = v1\n",
    "        if isinstance(v2, int):\n",
    "            self.v2 = v2\n",
    "    def add(self):\n",
    "        result = self.v1 + self.v2\n",
    "        Cal._history.append(\"add : %d+%d=%d\" % (self.v1, self.v2, result))\n",
    "        return result\n",
    "    def subtract(self):\n",
    "        result = self.v1 - self.v2\n",
    "        Cal._history.append(\"subtract : %d-%d=%d\" % (self.v1, self.v2, result))\n",
    "        return result\n",
    "    def setV1(self,v):\n",
    "        if isinstance(v,int):\n",
    "            self.v1 = v\n",
    "    def getV1(self,v):\n",
    "        return self.v1\n",
    "    @classmethod\n",
    "    def history(cls):\n",
    "        for item in Cal._history:\n",
    "            print(item)\n",
    "    def info(self):\n",
    "        return \"Cal -> v1 : %d, v2 : %d\" % (self.v1, self.v2)\n",
    "\n",
    "class CalMultiply(Cal):\n",
    "    def multiply(self):\n",
    "        result = self.v1 * self.v2\n",
    "        Cal._history.append(\"multiply : %d*%d=%d\" % (self.v1, self.v2, result))\n",
    "        return result\n",
    "    def info(self):\n",
    "        return \"CalMultiply -> %s\" % super().info()\n",
    "\n",
    "class CalDivide(CalMultiply):\n",
    "    def divide(self):\n",
    "        result = self.v1 * self.v2\n",
    "        Cal._history.append(\"divide : %d/%d=%d\" % (self.v1, self.v2, result))\n",
    "        return result\n",
    "    def info(self):\n",
    "        return \"CalDivide -> %s\" % super().info()"
   ]
  },
  {
   "cell_type": "code",
   "execution_count": 16,
   "metadata": {},
   "outputs": [
    {
     "name": "stdout",
     "output_type": "stream",
     "text": [
      "Cal -> v1 : 30, v2 : 60\n",
      "CalMultiply -> Cal -> v1 : 10, v2 : 10\n",
      "CalDivide -> CalMultiply -> Cal -> v1 : 20, v2 : 10\n"
     ]
    },
    {
     "data": {
      "text/plain": [
       "'\\nCalDivide -> CalMultiply -> Cal -> v1 : 20, v2 : 10\\n'"
      ]
     },
     "execution_count": 16,
     "metadata": {},
     "output_type": "execute_result"
    }
   ],
   "source": [
    "### Override 활용합시다\n",
    "# 현재 상속 관계 : Cal > CalMultiply > CalDivide\n",
    "\n",
    "# Cal에 info라는 메소드를 추가 정의한 후,\n",
    "c0 = Cal(30,60)\n",
    "print(c0.info())\n",
    "'''\n",
    "Cal -> v1 : 30, v2 : 60\n",
    "'''\n",
    "\n",
    "# CalMultiply, CalDivide에서 각각 오버라이드하여 다르게 동작하도록 하겠습니다.\n",
    "# CalMultiply 를 앞에 붙여줘요!\n",
    "c1 = CalMultiply(10,10)\n",
    "print(c1.info())\n",
    "'''\n",
    "CalMultiply -> Cal -> v1 : 10, v2 : 10\n",
    "'''\n",
    "\n",
    "# CalDivide 를 앞에 붙여줘요!\n",
    "c2 = CalDivide(20,10)\n",
    "print(c2.info())\n",
    "'''\n",
    "CalDivide -> CalMultiply -> Cal -> v1 : 20, v2 : 10\n",
    "'''"
   ]
  }
 ],
 "metadata": {
  "kernelspec": {
   "display_name": "Python 3",
   "language": "python",
   "name": "python3"
  },
  "language_info": {
   "codemirror_mode": {
    "name": "ipython",
    "version": 3
   },
   "file_extension": ".py",
   "mimetype": "text/x-python",
   "name": "python",
   "nbconvert_exporter": "python",
   "pygments_lexer": "ipython3",
   "version": "3.7.4"
  }
 },
 "nbformat": 4,
 "nbformat_minor": 2
}
