{
 "cells": [
  {
   "cell_type": "markdown",
   "metadata": {},
   "source": [
    "## 주의할 점 or 몰랐던 것\n",
    "\n",
    "- capitalize() : 문자열의 제일 앞글자만 대문자로 바꿔주는 함수\n",
    "- math.pow(2,10) : 제곱근을 구해주는 함수\n",
    "- math 라이브러리에 대해 한번 싹 훑어봐두면 나중에 활용하기 좋으려나\n",
    "\n",
    "---"
   ]
  },
  {
   "cell_type": "markdown",
   "metadata": {},
   "source": [
    "### 수와 계산\n",
    "    1. math.ceil : 올림\n",
    "    2. math.floor : 내림\n",
    "    3. math.pow : n제곱\n",
    "    4. math.pi : 원주율"
   ]
  },
  {
   "cell_type": "code",
   "execution_count": 4,
   "metadata": {},
   "outputs": [
    {
     "name": "stdout",
     "output_type": "stream",
     "text": [
      "3\n",
      "2\n",
      "8.0\n",
      "1024.0\n",
      "3.141592653589793\n"
     ]
    }
   ],
   "source": [
    "import math\n",
    "\n",
    "print(math.ceil(2.2))\n",
    "print(math.floor(2.7))\n",
    "print(math.pow(2,3))\n",
    "print(math.pow(2,10))\n",
    "print(math.pi)"
   ]
  },
  {
   "cell_type": "markdown",
   "metadata": {},
   "source": [
    "### 문자열의 제어\n",
    "    1. 문자열.capitalize(): 문자열의 첫 글자만 대문자로\n",
    "    2. 문자열.upper() : 문자열 전체를 대문자로\n",
    "    3. 문자열.__len__() : 문자열의 길이\n",
    "    4. len(문자열) : 문자열의 길이\n",
    "    5. 문자열.replace(바꿀문자열, 대체문자열)\n",
    "\n",
    "len()이 아닌 __len__()을 사용하게 되는 일이 있나? 왜?"
   ]
  },
  {
   "cell_type": "code",
   "execution_count": 11,
   "metadata": {},
   "outputs": [
    {
     "name": "stdout",
     "output_type": "stream",
     "text": [
      "Hello world\n",
      "HELLO WORLD\n",
      "11\n",
      "11\n",
      "hello programming\n"
     ]
    }
   ],
   "source": [
    "a = 'hello world'\n",
    "print(a.capitalize())\n",
    "print(a.upper())\n",
    "print(a.__len__())\n",
    "print(len(a))\n",
    "print(a.replace(\"world\", \"programming\"))"
   ]
  },
  {
   "cell_type": "markdown",
   "metadata": {},
   "source": [
    "### 비교와 불리언\n",
    "\n",
    "프로그래밍을 통해서 엄격한 논리 체계를 세워야 되는 때에\n",
    "고등수학 명제 수업을 듣거나, 수학의 논리학을 공부해보는 것도 좋은 접근 방법이 될 것이다."
   ]
  },
  {
   "cell_type": "markdown",
   "metadata": {},
   "source": [
    "### 조건문\n",
    "조건문 기초 다지기"
   ]
  },
  {
   "cell_type": "markdown",
   "metadata": {},
   "source": [
    "### 입출력"
   ]
  },
  {
   "cell_type": "code",
   "execution_count": 13,
   "metadata": {},
   "outputs": [
    {
     "name": "stdout",
     "output_type": "stream",
     "text": [
      "입력해주세요.\n",
      "dd\n",
      "dd World!\n"
     ]
    }
   ],
   "source": [
    "in_str = input(\"입력해주세요.\\n\")\n",
    "print(in_str+\" World!\")"
   ]
  },
  {
   "cell_type": "code",
   "execution_count": 14,
   "metadata": {},
   "outputs": [
    {
     "name": "stdout",
     "output_type": "stream",
     "text": [
      "입력해주세요.\n",
      "11\n",
      "Hello, egoing\n"
     ]
    }
   ],
   "source": [
    "# 로그인 애플리케이션에 입력 기능추가하기\n",
    "\n",
    "in_id = input(\"입력해주세요.\\n\")\n",
    "\n",
    "real_egoing = \"11\" ## input으로 입력받는 데이터는 기본적으로 문자열로 입력됨\n",
    "real_k8805 = \"ab\"\n",
    "\n",
    "if real_egoing == in_id:\n",
    "    print(\"Hello, egoing\")\n",
    "elif real_k8805 == in_id:\n",
    "    print(\"Hello, k8805\")\n",
    "else:\n",
    "    print(\"Who are you?\")"
   ]
  },
  {
   "cell_type": "markdown",
   "metadata": {},
   "source": [
    "### 논리 연산자"
   ]
  },
  {
   "cell_type": "code",
   "execution_count": 17,
   "metadata": {},
   "outputs": [
    {
     "name": "stdout",
     "output_type": "stream",
     "text": [
      "입력해주세요.\n",
      "dd\n",
      "Who are you?\n"
     ]
    }
   ],
   "source": [
    "## practice1.py\n",
    "\n",
    "in_id = input(\"입력해주세요.\\n\")\n",
    "\n",
    "real_egoing = \"11\" ## input으로 입력받는 데이터는 기본적으로 문자열로 입력됨\n",
    "real_k8805 = \"ab\"\n",
    "\n",
    "if (real_egoing == in_id) or (real_k8805 == in_id):\n",
    "    print(\"Hello, World!\")\n",
    "else:\n",
    "    print(\"Who are you?\")"
   ]
  },
  {
   "cell_type": "code",
   "execution_count": 20,
   "metadata": {},
   "outputs": [
    {
     "name": "stdout",
     "output_type": "stream",
     "text": [
      "아이디를 입력해주세요.\n",
      "ff\n",
      "패스워드를 입력해주시요.\n",
      "ab\n",
      "Who are you?\n"
     ]
    }
   ],
   "source": [
    "in_id = input(\"아이디를 입력해주세요.\\n\")\n",
    "in_pw = input(\"패스워드를 입력해주시요.\\n\")\n",
    "\n",
    "real_id = \"11\"\n",
    "real_pw = \"ab\"\n",
    "\n",
    "if (real_id == in_id) and (real_pw == in_pw):\n",
    "    print(\"Hello, World!\")\n",
    "else:\n",
    "    print(\"Who are you?\")"
   ]
  }
 ],
 "metadata": {
  "kernelspec": {
   "display_name": "Python 3",
   "language": "python",
   "name": "python3"
  },
  "language_info": {
   "codemirror_mode": {
    "name": "ipython",
    "version": 3
   },
   "file_extension": ".py",
   "mimetype": "text/x-python",
   "name": "python",
   "nbconvert_exporter": "python",
   "pygments_lexer": "ipython3",
   "version": "3.7.7"
  }
 },
 "nbformat": 4,
 "nbformat_minor": 4
}
