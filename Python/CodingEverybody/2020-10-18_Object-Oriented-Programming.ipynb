{
 "cells": [
  {
   "cell_type": "markdown",
   "metadata": {},
   "source": [
    "## 주의할 점 or 몰랐던 것\n",
    "\n",
    "- "
   ]
  },
  {
   "cell_type": "markdown",
   "metadata": {},
   "source": [
    "## 객체 지향 프로그래밍\n",
    "\n",
    "1. 객체 지향 프로그래밍의 개념   \n",
    "    - (복습) 모듈이란?   \n",
    "        - 일종의 수납공간과 같은 역할   \n",
    "    - 연장선상에서 좀 더 진전된 개념을 가지고 있는 *'Object'*   \n",
    "   \n",
    "   \n",
    "2. Object : class(종류) + instance(종류에 속하는 구체적인 것)   \n",
    "    - class란?   \n",
    "        - 서로 연관된 변수와 함수들을 그루핑한 묶음   \n",
    "    - instance란?   \n",
    "        - class를 복제해서 instance를 만듬   \n",
    "        - 만들어진 instance마다 변수와 함수는 같지만, 그 변수안에 담긴 데이터는 다름   "
   ]
  },
  {
   "cell_type": "code",
   "execution_count": 10,
   "metadata": {},
   "outputs": [
    {
     "name": "stdout",
     "output_type": "stream",
     "text": [
      "EGOING\n",
      "6\n"
     ]
    }
   ],
   "source": [
    "name = 'egoing' #여기서 문자열 egoing이 객체\n",
    "\n",
    "name1 = str('egoing') #문자열을 다른 방법으로 만들어보자\n",
    "# → str('문자')는 '문자'라는 객체가 생성된다!라고 생각하자\n",
    "# → class인 str()을 복제해서 '문자'라는 변수를 가진 새로운 instance를 만들어 name1에 대입시킨다.\n",
    "\n",
    "name2 = str('k8805')\n",
    "# class str()을 한번 더 복제해서 또 하나의 instance를 생성\n",
    "\n",
    "print(name1.upper()) # 객체 안에서 사용되는 함수(Function)은 Method라고 불립니다~\n",
    "print(len(name1))"
   ]
  },
  {
   "cell_type": "code",
   "execution_count": 13,
   "metadata": {},
   "outputs": [
    {
     "name": "stdout",
     "output_type": "stream",
     "text": [
      "['egoing', 'k8805']\n"
     ]
    }
   ],
   "source": [
    "# 배열로도 해보쟝\n",
    "\n",
    "names = list()\n",
    "#배열 instance에 method를 이용해서 데이터를 넣엇\n",
    "names.append('egoing')\n",
    "names.append('k8805')\n",
    "print(names)"
   ]
  },
  {
   "cell_type": "markdown",
   "metadata": {},
   "source": [
    "## 객체 지향 프로그래밍을 어떠게 공부해야 하는가\n",
    "\n",
    "- 직접 객체를 만들어야 한다고 생각하지는 않더라도   \n",
    "- 항상 '다른 사람이 만든 객체를 사용한다'는 생각을 가지고 있을 것   "
   ]
  },
  {
   "cell_type": "markdown",
   "metadata": {},
   "source": [
    "## 객체 제작\n",
    "\n",
    "- 객체 사용 (실습_계산기)"
   ]
  },
  {
   "cell_type": "code",
   "execution_count": 27,
   "metadata": {},
   "outputs": [
    {
     "name": "stdout",
     "output_type": "stream",
     "text": [
      "20\n",
      "0\n",
      "50\n",
      "10\n"
     ]
    }
   ],
   "source": [
    "# 계산기 클래스가 있다고 가정하고 사용하는 실습 먼저\n",
    "\n",
    "c1 = Cal(10, 10) #10, 10을 가지고 연산할 Cal이라는 class를 복사한 instance를 c1에 대입\n",
    "print(c1.add())\n",
    "print(c1.subtract())\n",
    "\n",
    "c2 = Cal(30, 20) #30, 20을 가지고 연산할 Cal이라는 class를 복사한 instance를 c1에 대입\n",
    "print(c2.add())\n",
    "print(c2.subtract())"
   ]
  },
  {
   "cell_type": "code",
   "execution_count": 28,
   "metadata": {},
   "outputs": [],
   "source": [
    "# 진짜로 클래스를 만들어봅시다\n",
    "\n",
    "class Cal(object):\n",
    "    # 생성자 : 초기화를 해줄 수 있습니다~\n",
    "    def __init__(self, v1, v2):  ## 이건 지역변수, __init__ method에서만 사용\n",
    "        self.v1 = v1             ## 이건 인스턴스 변수\n",
    "        self.v2 = v2             ## : 인스턴스 전체에서 사용할 수 있는 변수\n",
    "    \n",
    "    def add(self):\n",
    "        return self.v1 + self.v2\n",
    "    \n",
    "    def subtract(self):\n",
    "        return self.v1-self.v2\n",
    "\n",
    "# 아직 어느정도 기억을 하고 이있군요.. 다행입니다."
   ]
  },
  {
   "cell_type": "markdown",
   "metadata": {},
   "source": [
    "## 객체를 사용하는 이유\n",
    "\n",
    "- 위 계산기를 객체를 사용하지 않고 만들어보자"
   ]
  },
  {
   "cell_type": "code",
   "execution_count": 30,
   "metadata": {},
   "outputs": [
    {
     "name": "stdout",
     "output_type": "stream",
     "text": [
      "20\n",
      "0\n",
      "50\n",
      "10\n"
     ]
    }
   ],
   "source": [
    "# 더하기 빼기 함수 만들고\n",
    "def add(v1, v2):\n",
    "    return v1 + v2\n",
    "\n",
    "def subtract(v1, v2):\n",
    "    return v1 - v2\n",
    "\n",
    "# 계산해봐욧\n",
    "print(add(10, 10))\n",
    "print(subtract(10, 10))\n",
    "print(add(30, 20))\n",
    "print(subtract(30, 20))\n",
    "\n",
    "## 객체를 사용하는 이유는\n",
    "## 소속이 같은것을 한눈에 잘 보여주고\n",
    "## 특정한 값을 대상으로 처리를 하고 있다는 관계성을 더 명확하게 나타냄\n",
    "## 메소드와 변수가 다른 코드의 영향으로 훼손, 변형된 가능성이 현저히 낮아진다"
   ]
  },
  {
   "cell_type": "code",
   "execution_count": null,
   "metadata": {},
   "outputs": [],
   "source": []
  }
 ],
 "metadata": {
  "kernelspec": {
   "display_name": "Python 3",
   "language": "python",
   "name": "python3"
  },
  "language_info": {
   "codemirror_mode": {
    "name": "ipython",
    "version": 3
   },
   "file_extension": ".py",
   "mimetype": "text/x-python",
   "name": "python",
   "nbconvert_exporter": "python",
   "pygments_lexer": "ipython3",
   "version": "3.7.4"
  }
 },
 "nbformat": 4,
 "nbformat_minor": 2
}
