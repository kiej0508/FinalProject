{
 "cells": [
  {
   "cell_type": "markdown",
   "metadata": {},
   "source": [
    "## 상속\n",
    "\n",
    "1. 상속\n",
    "    - 기존에 있던 객체에 새로운 기능을 추가해서 새로운 객체를 만드는 것\n",
    "   \n",
    "   \n",
    "- 상속이 없는 경우의 코딩과\n",
    "- 그로 인한 비효율성이 무엇이며\n",
    "- 상속을 통해 그 비효율성을 극복하는 방법을 알아보자"
   ]
  },
  {
   "cell_type": "code",
   "execution_count": 8,
   "metadata": {},
   "outputs": [
    {
     "name": "stdout",
     "output_type": "stream",
     "text": [
      "<__main__.Class1 object at 0x00000170B87D36C8> m1\n"
     ]
    }
   ],
   "source": [
    "### 걍 객체 형태를 보기 위한 \n",
    "\n",
    "class Class1(object):\n",
    "    def method1(self):\n",
    "        return 'm1'\n",
    "\n",
    "c1 = Class1()\n",
    "print(c1, c1.method1())"
   ]
  },
  {
   "cell_type": "code",
   "execution_count": 7,
   "metadata": {},
   "outputs": [
    {
     "name": "stdout",
     "output_type": "stream",
     "text": [
      "<__main__.Class2 object at 0x00000170B87D6908> m1\n",
      "<__main__.Class2 object at 0x00000170B87D6908> m2\n"
     ]
    }
   ],
   "source": [
    "### 기존 메소드를 사용하면서 새로운 메소드도 사용하고 싶다면\n",
    "\n",
    "class Class2(object):\n",
    "    def method1(self):\n",
    "        return 'm1'\n",
    "    def method2(self): #추가해줌 ← 이거 빼고 다 똑같은 객체\n",
    "        return 'm2'\n",
    "\n",
    "c2 = Class2()\n",
    "print(c2, c2.method1())\n",
    "print(c2, c2.method2())\n",
    "# 중복의 고약한 냄새가 난다심\n",
    "# 고약하군.."
   ]
  },
  {
   "cell_type": "code",
   "execution_count": 6,
   "metadata": {},
   "outputs": [
    {
     "name": "stdout",
     "output_type": "stream",
     "text": [
      "<__main__.Class3 object at 0x00000170B87DAB48> m1\n",
      "<__main__.Class3 object at 0x00000170B87DAB48> m2\n"
     ]
    }
   ],
   "source": [
    "### 클래스1의 기능을 상속하면서 새로운 메소드를 추가하는 객체를 만들어보자\n",
    "\n",
    "class Class3(Class1): #요것이 바로 Class1을 상속한다는 의미가 되는 것입니다!!\n",
    "    def method2(self):\n",
    "        return 'm2'\n",
    "\n",
    "c3 = Class3()\n",
    "print(c3, c3.method1()) #Class3에서는 method1을 만들지 않았는데 나오쥬?\n",
    "print(c3, c3.method2())"
   ]
  },
  {
   "cell_type": "code",
   "execution_count": null,
   "metadata": {},
   "outputs": [],
   "source": []
  }
 ],
 "metadata": {
  "kernelspec": {
   "display_name": "Python 3",
   "language": "python",
   "name": "python3"
  },
  "language_info": {
   "codemirror_mode": {
    "name": "ipython",
    "version": 3
   },
   "file_extension": ".py",
   "mimetype": "text/x-python",
   "name": "python",
   "nbconvert_exporter": "python",
   "pygments_lexer": "ipython3",
   "version": "3.7.4"
  }
 },
 "nbformat": 4,
 "nbformat_minor": 2
}
