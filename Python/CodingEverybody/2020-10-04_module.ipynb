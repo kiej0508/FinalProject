{
 "cells": [
  {
   "cell_type": "markdown",
   "metadata": {},
   "source": [
    "## 주의할 점 or 몰랐던 것\n",
    "\n",
    "- "
   ]
  },
  {
   "cell_type": "markdown",
   "metadata": {},
   "source": [
    "## 모듈\n",
    "\n",
    "- 연관된 기능들을 하나의 이름으로 묶는 기법, 핵심 역할이 모듈인 것이쥬"
   ]
  },
  {
   "cell_type": "markdown",
   "metadata": {},
   "source": [
    "## 내장모듈"
   ]
  },
  {
   "cell_type": "code",
   "execution_count": 7,
   "metadata": {},
   "outputs": [
    {
     "name": "stdout",
     "output_type": "stream",
     "text": [
      "['__doc__', '__loader__', '__name__', '__package__', '__spec__', 'acos', 'acosh', 'asin', 'asinh', 'atan', 'atan2', 'atanh', 'ceil', 'copysign', 'cos', 'cosh', 'degrees', 'e', 'erf', 'erfc', 'exp', 'expm1', 'fabs', 'factorial', 'floor', 'fmod', 'frexp', 'fsum', 'gamma', 'gcd', 'hypot', 'inf', 'isclose', 'isfinite', 'isinf', 'isnan', 'ldexp', 'lgamma', 'log', 'log10', 'log1p', 'log2', 'modf', 'nan', 'pi', 'pow', 'radians', 'remainder', 'sin', 'sinh', 'sqrt', 'tan', 'tanh', 'tau', 'trunc']\n",
      "3\n",
      "2\n",
      "2.0\n"
     ]
    }
   ],
   "source": [
    "import math #math라는 모듈을 가져옵시다아아앙\n",
    "\n",
    "# math라는 모듈에 소속된 함수들\n",
    "print(dir(math))\n",
    "\n",
    "print(math.ceil(2.1)) # 올림\n",
    "print(math.floor(2.9)) # 내림\n",
    "print(math.sqrt(4)) # 제곱근"
   ]
  },
  {
   "cell_type": "markdown",
   "metadata": {},
   "source": [
    "## 모듈이 없을 때의 불편함을 느껴보삼 ㅎ"
   ]
  },
  {
   "cell_type": "code",
   "execution_count": 10,
   "metadata": {},
   "outputs": [
    {
     "name": "stdout",
     "output_type": "stream",
     "text": [
      "B\n"
     ]
    }
   ],
   "source": [
    "# egoing이 만든 함수 a\n",
    "def a():\n",
    "    # 코드가 엄청 많다고 가정하쟈\n",
    "    return 'a'\n",
    "# 코드가 엄청 많다고 가정하쟈\n",
    "\n",
    "# k88050가 만든 함수 a\n",
    "def a():\n",
    "    # 코드가 엄청 많다고 가정하쟈\n",
    "    return 'B'\n",
    "# 코드가 엄청 많다고 가정하쟈\n",
    "\n",
    "\n",
    "# 함수 egoing의 a를 호출하고 싶지만 \n",
    "print(a())\n",
    "# 함수가 덮어씌워져서 k8805의 a가 호출되어버림"
   ]
  },
  {
   "cell_type": "code",
   "execution_count": 11,
   "metadata": {},
   "outputs": [
    {
     "name": "stdout",
     "output_type": "stream",
     "text": [
      "a\n"
     ]
    }
   ],
   "source": [
    "## 모듈이 없을 때 위와 같은 문제를 회피하기 위해서는\n",
    "\n",
    "def egoing_a():\n",
    "    # 코드가 엄청 많다고 가정하쟈\n",
    "    return 'a'\n",
    "# 코드가 엄청 많다고 가정하쟈\n",
    "\n",
    "def k8805_a():\n",
    "    # 코드가 엄청 많다고 가정하쟈\n",
    "    return 'B'\n",
    "# 코드가 엄청 많다고 가정하쟈\n",
    "\n",
    "\n",
    "print(egoing_a())\n",
    "\n",
    "# 이런식으로 회피할 수는 있지만....\n",
    "# 함수의 이름을 변형하고 있고,\n",
    "# 함수가 가진 기능을 무시하고 한 곳에 다 때려넣으면 무슨수로 구분 ㅇㅅㅇ"
   ]
  },
  {
   "cell_type": "markdown",
   "metadata": {},
   "source": [
    "## 모듈화해봅시다"
   ]
  },
  {
   "cell_type": "code",
   "execution_count": 17,
   "metadata": {},
   "outputs": [
    {
     "name": "stdout",
     "output_type": "stream",
     "text": [
      "a B\n",
      "a B\n"
     ]
    }
   ],
   "source": [
    "# egoing.py / k8805.py로 위 각 함수를 따로 저장해서 사용해보자\n",
    "\n",
    "import egoing, k8805\n",
    "print(egoing.a(), k8805.a())\n",
    "\n",
    "# 또는\n",
    "from egoing import a as egoing_a\n",
    "from k8805 import a as k8805_a\n",
    "print(egoing_a(), k8805_a())"
   ]
  },
  {
   "cell_type": "markdown",
   "metadata": {},
   "source": [
    "## 모듈을 통한 중복 제거 & 재활용성 증대\n",
    "\n",
    "- 코드를 구획화할 때도 함수를 활용할 수 있음\n",
    "- 문제는 함수도 늘어나다 보면 함수 자체만으로도 코드가 복잡해지니 (같은 이름의 함수 발생 등)\n",
    "- 함수를 그룹핑할 수 있는 수간이 모듈인 것\n",
    "- 연관된 함수들을 묶어 빠르게 찾을 수 있G"
   ]
  },
  {
   "cell_type": "code",
   "execution_count": 18,
   "metadata": {},
   "outputs": [
    {
     "name": "stdout",
     "output_type": "stream",
     "text": [
      "a\n"
     ]
    }
   ],
   "source": [
    "# 각 셀이 각각의 파이썬파일이라고 가정\n",
    "def a():\n",
    "    return 'a'\n",
    "\n",
    "print(a())"
   ]
  },
  {
   "cell_type": "code",
   "execution_count": 19,
   "metadata": {},
   "outputs": [
    {
     "name": "stdout",
     "output_type": "stream",
     "text": [
      "a\n"
     ]
    }
   ],
   "source": [
    "def a():\n",
    "    return 'a'\n",
    "\n",
    "print(a())\n",
    "\n",
    "# 같은 코드가 중복돼서 발생"
   ]
  },
  {
   "cell_type": "code",
   "execution_count": 20,
   "metadata": {},
   "outputs": [
    {
     "name": "stdout",
     "output_type": "stream",
     "text": [
      "a\n"
     ]
    }
   ],
   "source": [
    "# 모듈을 사용하면\n",
    "import egoing\n",
    "print(egoing.a())"
   ]
  },
  {
   "cell_type": "code",
   "execution_count": 21,
   "metadata": {},
   "outputs": [
    {
     "name": "stdout",
     "output_type": "stream",
     "text": [
      "a\n"
     ]
    }
   ],
   "source": [
    "import egoing\n",
    "print(egoing.a())\n",
    "# 코드 재활용을 할 수 있고 코드도 줄어들고~"
   ]
  },
  {
   "cell_type": "markdown",
   "metadata": {},
   "source": [
    "## 로그인 애플리케이션 업그레이드합시다"
   ]
  },
  {
   "cell_type": "code",
   "execution_count": 22,
   "metadata": {},
   "outputs": [
    {
     "name": "stdout",
     "output_type": "stream",
     "text": [
      "아이디를 입력해주세요.\n",
      "egoing\n",
      "패스워드를 입력해주시요.\n",
      "1111\n",
      "Hello, World!\n"
     ]
    }
   ],
   "source": [
    "## 이전 코드\n",
    "### 로그인 함수 자체는 모듈화를 굳이 할만한 기능은 아니지만 실습을 위해서~~\n",
    "\n",
    "in_id = input(\"아이디를 입력해주세요.\\n\")\n",
    "in_pw = input(\"패스워드를 입력해주시요.\\n\")\n",
    "\n",
    "def login(in_id, in_pw):\n",
    "    members_id = ['egoing', 'leezche', 'graphittie']\n",
    "    members_pw = ['1111', '2222', '3333']\n",
    "    \n",
    "    for i, p in zip(members_id, members_pw):\n",
    "        if i==in_id and p==in_pw:\n",
    "            return True\n",
    "    return False\n",
    "\n",
    "if login(in_id, in_pw):\n",
    "    print(\"Hello, World!\")\n",
    "else:\n",
    "    print(\"Who are you?\")"
   ]
  },
  {
   "cell_type": "code",
   "execution_count": 23,
   "metadata": {},
   "outputs": [
    {
     "name": "stdout",
     "output_type": "stream",
     "text": [
      "아이디를 입력해주세요.\n",
      "egoing\n",
      "패스워드를 입력해주시요.\n",
      "1111\n",
      "Hello, World!\n"
     ]
    }
   ],
   "source": [
    "## 이전 코드의 함수 부분을 잘래내고 파이썬 파일로 저장\n",
    "\n",
    "import auth # 불러오고\n",
    "\n",
    "in_id = input(\"아이디를 입력해주세요.\\n\")\n",
    "in_pw = input(\"패스워드를 입력해주시요.\\n\")\n",
    "\n",
    "if auth.login(in_id, in_pw): # 사용해서\n",
    "    print(\"Hello, World!\")\n",
    "else:\n",
    "    print(\"Who are you?\")\n",
    "\n",
    "# 결과 잘 나오니까 오케이~"
   ]
  }
 ],
 "metadata": {
  "kernelspec": {
   "display_name": "Python 3",
   "language": "python",
   "name": "python3"
  },
  "language_info": {
   "codemirror_mode": {
    "name": "ipython",
    "version": 3
   },
   "file_extension": ".py",
   "mimetype": "text/x-python",
   "name": "python",
   "nbconvert_exporter": "python",
   "pygments_lexer": "ipython3",
   "version": "3.7.4"
  }
 },
 "nbformat": 4,
 "nbformat_minor": 2
}
