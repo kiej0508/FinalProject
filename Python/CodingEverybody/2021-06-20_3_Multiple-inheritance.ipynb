{
 "cells": [
  {
   "cell_type": "markdown",
   "metadata": {},
   "source": [
    "## 다중 상속\n",
    "\n",
    "1. 특정한 객체가 여러 부모 객체를 상속   "
   ]
  },
  {
   "cell_type": "code",
   "execution_count": 3,
   "metadata": {},
   "outputs": [
    {
     "name": "stdout",
     "output_type": "stream",
     "text": [
      "c1_m\n",
      "c2_m\n"
     ]
    }
   ],
   "source": [
    "class C1():\n",
    "    def c1_m(self):\n",
    "        print(\"c1_m\")\n",
    "\n",
    "class C2():\n",
    "    def c2_m(self):\n",
    "        print(\"c2_m\")\n",
    "\n",
    "class C3(C1, C2):\n",
    "    pass\n",
    "\n",
    "c = C3()\n",
    "c.c1_m()\n",
    "c.c2_m()\n",
    "'c1_m'\n",
    "'c2_m'"
   ]
  },
  {
   "cell_type": "markdown",
   "metadata": {},
   "source": [
    "### 다중 상속의 단점\n",
    "\n",
    "1. 각기 다른 부모 클래스의 메소드 이름이 같다면"
   ]
  },
  {
   "cell_type": "code",
   "execution_count": 8,
   "metadata": {},
   "outputs": [
    {
     "name": "stdout",
     "output_type": "stream",
     "text": [
      "c1_m\n",
      "c2_m\n",
      "c5_m\n"
     ]
    }
   ],
   "source": [
    "class C1():\n",
    "    def m(self):\n",
    "        print(\"c1_m\")\n",
    "\n",
    "class C2():\n",
    "    def m(self):\n",
    "        print(\"c2_m\")\n",
    "\n",
    "class C3(C1, C2):\n",
    "    pass\n",
    "\n",
    "c = C3()\n",
    "c.m() # C1을 데려왔는디\n",
    "\n",
    "class C4(C2, C1): # 부모클래스 순서 바꿔주면\n",
    "    pass\n",
    "\n",
    "c = C4()\n",
    "c.m() # C2를 데려오쥬\n",
    "\n",
    "\n",
    "class C5(C2, C1):\n",
    "    def m(self): # 자체에 같은 이름 메소드 만들어주면\n",
    "        print(\"c5_m\")\n",
    "\n",
    "c = C5()\n",
    "c.m() # C5를 데려오쥬\n",
    "\n",
    "# 우선순위가 호출한 객체 자체 -> 입력 순서대로의 부모클래스 -> 파이썬 가장 상위의 오브젝트 클래스"
   ]
  },
  {
   "cell_type": "markdown",
   "metadata": {},
   "source": [
    "### 다중 상속의 활용\n",
    "\n",
    "1. 계산기 예제 활용"
   ]
  },
  {
   "cell_type": "code",
   "execution_count": 12,
   "metadata": {},
   "outputs": [],
   "source": [
    "### 지난 예제 복붙 ###\n",
    "\n",
    "class Cal():\n",
    "    _history = []\n",
    "    def __init__(self, v1, v2):\n",
    "        if isinstance(v1, int):\n",
    "            self.v1 = v1\n",
    "        if isinstance(v2, int):\n",
    "            self.v2 = v2\n",
    "    def add(self):\n",
    "        result = self.v1 + self.v2\n",
    "        return result\n",
    "    def subtract(self):\n",
    "        result = self.v1 - self.v2\n",
    "        return result\n",
    "    def setV1(self,v):\n",
    "        if isinstance(v,int):\n",
    "            self.v1 = v\n",
    "    def getV1(self,v):\n",
    "        return self.v1\n",
    "\n",
    "class CalMultiply(Cal):\n",
    "    def multiply(self):\n",
    "        result = self.v1 * self.v2\n",
    "        return result\n",
    "\n",
    "class CalDivide(CalMultiply):\n",
    "    def divide(self):\n",
    "        result = self.v1 * self.v2\n",
    "        return result\n",
    "    \n",
    "# 하나의 부모 객체 Cal을 상속하s는 Multiply와 Divice"
   ]
  },
  {
   "cell_type": "code",
   "execution_count": 13,
   "metadata": {},
   "outputs": [],
   "source": [
    "### 이전 코드의 부모1&자식2를 반전해서 부모2&자식1로 함번 써볼까요\n",
    "# Multiply와 Divice를 Cal이 상속받아 사용\n",
    "\n",
    "class CalMultiply():\n",
    "    def multiply(self):\n",
    "        result = self.v1 * self.v2\n",
    "        return result\n",
    "\n",
    "class CalDivide():\n",
    "    def divide(self):\n",
    "        result = self.v1 * self.v2\n",
    "        return result\n",
    "\n",
    "class Cal(CalMultiply, CalDivide):\n",
    "    _history = []\n",
    "    def __init__(self, v1, v2):\n",
    "        if isinstance(v1, int):\n",
    "            self.v1 = v1\n",
    "        if isinstance(v2, int):\n",
    "            self.v2 = v2\n",
    "    def add(self):\n",
    "        result = self.v1 + self.v2\n",
    "        return result\n",
    "    def subtract(self):\n",
    "        result = self.v1 - self.v2\n",
    "        return result\n",
    "    def setV1(self,v):\n",
    "        if isinstance(v,int):\n",
    "            self.v1 = v\n",
    "    def getV1(self,v):\n",
    "        return self.v1"
   ]
  },
  {
   "cell_type": "code",
   "execution_count": 14,
   "metadata": {},
   "outputs": [
    {
     "name": "stdout",
     "output_type": "stream",
     "text": [
      "110\n",
      "1000\n",
      "1000\n"
     ]
    }
   ],
   "source": [
    "c = Cal(100, 10)\n",
    "print(c.add())\n",
    "print(c.multiply())\n",
    "print(c.divide())"
   ]
  }
 ],
 "metadata": {
  "kernelspec": {
   "display_name": "Python 3",
   "language": "python",
   "name": "python3"
  },
  "language_info": {
   "codemirror_mode": {
    "name": "ipython",
    "version": 3
   },
   "file_extension": ".py",
   "mimetype": "text/x-python",
   "name": "python",
   "nbconvert_exporter": "python",
   "pygments_lexer": "ipython3",
   "version": "3.7.4"
  }
 },
 "nbformat": 4,
 "nbformat_minor": 2
}
