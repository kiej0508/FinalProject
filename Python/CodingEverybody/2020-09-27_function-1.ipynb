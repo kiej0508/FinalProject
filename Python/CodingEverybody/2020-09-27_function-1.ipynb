{
 "cells": [
  {
   "cell_type": "markdown",
   "metadata": {},
   "source": [
    "## 주의할 점 or 몰랐던 것\n",
    "\n",
    "- \n"
   ]
  },
  {
   "cell_type": "markdown",
   "metadata": {},
   "source": [
    "## 함수\n",
    "\n",
    "- 함수의 형식을 파악하자\n",
    "- 내장함수 & 사용자정의함수\n",
    "\n",
    "- def 함수명():\n",
    "* def = define"
   ]
  },
  {
   "cell_type": "code",
   "execution_count": 3,
   "metadata": {},
   "outputs": [
    {
     "name": "stdout",
     "output_type": "stream",
     "text": [
      "aaa\n"
     ]
    }
   ],
   "source": [
    "# 파이썬에서 함수가 어떻게 작동하는가\n",
    "\n",
    "def a3(): #define하겠어 a3()라는 함수를\n",
    "    \n",
    "    # 들여쓰기 한 부분이 함수의 본문\n",
    "    print(\"aaa\")\n",
    "\n",
    "a3() #괄호로 인해서 함수를 호출하는 것이라고 파이썬은 인식하는 것\n",
    "\n",
    "## 재활용성 향상\n",
    "## 가독성을 향상 (함수의 이름을 보고 코드의 로직이나, 코드의 목적을 파악)"
   ]
  },
  {
   "cell_type": "markdown",
   "metadata": {},
   "source": [
    "## 함수의 출력값\n",
    "\n",
    "- 표현식, Expression\n",
    "    - 2를 표현하는 예시 : len('aa'), 1+1, 2\n",
    "    "
   ]
  },
  {
   "cell_type": "code",
   "execution_count": 6,
   "metadata": {},
   "outputs": [
    {
     "name": "stdout",
     "output_type": "stream",
     "text": [
      "aaa\n"
     ]
    }
   ],
   "source": [
    "## aaa를 출력하는게 아닌 다른 용도로 사용하고 싶을 때 위의 코드는 사용할 수 없음\n",
    "\n",
    "def a3():\n",
    "#     print('before')\n",
    "    return 'aaa'    # freturn이 등장하면 함수 실행을 종료\n",
    "#     print('after')   # 그래서 여기는 실행되지 않으니까 출력되지 않음\n",
    "\n",
    "print(a3())\n",
    "\n",
    "## 재사용성의 향상 : '데이터'를 반환한다면 범용적으로 사용할 수 있게 된다."
   ]
  },
  {
   "cell_type": "code",
   "execution_count": null,
   "metadata": {},
   "outputs": [],
   "source": []
  }
 ],
 "metadata": {
  "kernelspec": {
   "display_name": "Python 3",
   "language": "python",
   "name": "python3"
  },
  "language_info": {
   "codemirror_mode": {
    "name": "ipython",
    "version": 3
   },
   "file_extension": ".py",
   "mimetype": "text/x-python",
   "name": "python",
   "nbconvert_exporter": "python",
   "pygments_lexer": "ipython3",
   "version": "3.7.4"
  }
 },
 "nbformat": 4,
 "nbformat_minor": 2
}
