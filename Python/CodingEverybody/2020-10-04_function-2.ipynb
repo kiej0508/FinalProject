{
 "cells": [
  {
   "cell_type": "markdown",
   "metadata": {},
   "source": [
    "## 주의할 점 or 몰랐던 것\n",
    "\n",
    "- \n"
   ]
  },
  {
   "cell_type": "markdown",
   "metadata": {},
   "source": [
    "## 입력값\n",
    "\n",
    "- 함수의 유연성을 높여보쟝"
   ]
  },
  {
   "cell_type": "code",
   "execution_count": null,
   "metadata": {},
   "outputs": [],
   "source": [
    "# 이런 함수가 있을 때,\n",
    "def a3():\n",
    "    return 'aaa'\n",
    "\n",
    "# a를 4개 리턴하는 함수가 필요하다면\n",
    "\n",
    "def a3():\n",
    "    return 'aaaa'\n",
    "\n",
    "# 이렇게 중복된 함수를 하나 더 만들어야함"
   ]
  },
  {
   "cell_type": "code",
   "execution_count": null,
   "metadata": {},
   "outputs": [],
   "source": [
    "# 중복을 어떻게 해소 해볼까?\n",
    "\n",
    "def a(num): # 변수를 받아다가 사용하자\n",
    "            # 추억돋네...... 그래도 마냥 까먹지는 않았구나...\n",
    "    return 'a'*num\n",
    "print(a(3))"
   ]
  },
  {
   "cell_type": "markdown",
   "metadata": {},
   "source": [
    "# 여러개의 입력값"
   ]
  },
  {
   "cell_type": "code",
   "execution_count": null,
   "metadata": {},
   "outputs": [],
   "source": [
    "# 그렇다면~ ↑저 함수는 a만! 여러개를 찍어내는 한수\n",
    "\n",
    "# 무슨 문자열이든 num개 찍어내려면?\n",
    "\n",
    "def make_string(string, num):\n",
    "    string=str(string)\n",
    "    num=int(num)\n",
    "    return string*num\n",
    "\n",
    "print(make_string(3, 3.3))\n",
    "# 헤헤헤헤\n",
    "# 너무 기초 문법을 하고 있나..?\n",
    "# 그취만 기초가 탄탄하지 않으면..."
   ]
  },
  {
   "cell_type": "markdown",
   "metadata": {},
   "source": [
    "## 로그인 애플리케이션 업그레이드를 해봅시다\n",
    "\n",
    "- 이전코드보다 함수를 활용해 업그레이드를 했을 때 코드가 길어져 보이지만\n",
    "- 애플리케이션이 확장될수록 아래가 "
   ]
  },
  {
   "cell_type": "code",
   "execution_count": null,
   "metadata": {},
   "outputs": [],
   "source": [
    "## 이전 코드\n",
    "\n",
    "in_id = input(\"아이디를 입력해주세요.\\n\")\n",
    "in_pw = input(\"패스워드를 입력해주시요.\\n\")\n",
    "\n",
    "members_id = ['egoing', 'leezche', 'graphittie']\n",
    "members_pw = ['1111', '2222', '3333']\n",
    "\n",
    "for i, p in zip(members_id, members_pw):\n",
    "    if i==in_id and p==in_pw:\n",
    "        print(\"Hello, World!\")\n",
    "    \n",
    "print(\"Who are you?\")"
   ]
  },
  {
   "cell_type": "code",
   "execution_count": 3,
   "metadata": {},
   "outputs": [
    {
     "name": "stdout",
     "output_type": "stream",
     "text": [
      "아이디를 입력해주세요.\n",
      "egoing\n",
      "패스워드를 입력해주시요.\n",
      "1111\n",
      "Hello, World!\n",
      "5\n"
     ]
    }
   ],
   "source": [
    "## 함수를 사용해서 업그레이드를 합시다\n",
    "\n",
    "in_id = input(\"아이디를 입력해주세요.\\n\")\n",
    "in_pw = input(\"패스워드를 입력해주시요.\\n\")\n",
    "\n",
    "def login(in_id, in_pw):\n",
    "    members_id = ['egoing', 'leezche', 'graphittie']\n",
    "    members_pw = ['1111', '2222', '3333']\n",
    "    \n",
    "    for i, p in zip(members_id, members_pw):\n",
    "        if i==in_id and p==in_pw:\n",
    "            return True\n",
    "    return False\n",
    "\n",
    "if login(in_id, in_pw):\n",
    "    print(\"Hello, World!\")\n",
    "else:\n",
    "    print(\"Who are you?\")"
   ]
  },
  {
   "cell_type": "code",
   "execution_count": null,
   "metadata": {},
   "outputs": [],
   "source": []
  }
 ],
 "metadata": {
  "kernelspec": {
   "display_name": "Python 3",
   "language": "python",
   "name": "python3"
  },
  "language_info": {
   "codemirror_mode": {
    "name": "ipython",
    "version": 3
   },
   "file_extension": ".py",
   "mimetype": "text/x-python",
   "name": "python",
   "nbconvert_exporter": "python",
   "pygments_lexer": "ipython3",
   "version": "3.7.4"
  }
 },
 "nbformat": 4,
 "nbformat_minor": 2
}
