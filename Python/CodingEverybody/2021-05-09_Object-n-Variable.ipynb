{
 "cells": [
  {
   "cell_type": "markdown",
   "metadata": {},
   "source": [
    "## 주의할 점 or 몰랐던 것\n",
    "\n",
    "- \n"
   ]
  },
  {
   "cell_type": "markdown",
   "metadata": {},
   "source": [
    "## 객체와 변수\n",
    "\n",
    "1. 인캡슐레이션 (캡슐화)\n",
    "    - 객체와 데이터\n",
    "        - 객체 == 부품\n",
    "    - 캡슐화\n",
    "        - 객체 안에 포함되어 있는 데이터 등이 외부로부터 영향을 받지 않도록하는 기능과 기법"
   ]
  },
  {
   "cell_type": "code",
   "execution_count": 5,
   "metadata": {},
   "outputs": [
    {
     "name": "stdout",
     "output_type": "stream",
     "text": [
      "10\n",
      "20\n"
     ]
    }
   ],
   "source": [
    "## 2. 인스턴스 변수의 특성\n",
    "class C:\n",
    "    def __init__(self, v):\n",
    "        self.value = v\n",
    "\n",
    "c1 = C(10)\n",
    "# 인스턴스가 생성될 때 10이 v로 들어간다\n",
    "\n",
    "print(c1.value)\n",
    "# c1에 value의 값을 읽어왔다\n",
    "\n",
    "# 읽을 수 있다면 쓸수도 있다\n",
    "c1.value = 20\n",
    "print(c1.value)"
   ]
  },
  {
   "cell_type": "code",
   "execution_count": 15,
   "metadata": {},
   "outputs": [
    {
     "name": "stdout",
     "output_type": "stream",
     "text": [
      "10\n",
      "20\n"
     ]
    }
   ],
   "source": [
    "## 3. set / get 메소드\n",
    "# 인스턴스 변수를 읽고 쓸때 권장되는 방식\n",
    "\n",
    "# self.value에 직접 접근하지 않고 set & get으를 사용해서 접근하자\n",
    "class C(object):\n",
    "    def __init__(self, v):\n",
    "        self.value = v\n",
    "    def show(self):\n",
    "        print(self.value)\n",
    "    def getValue(self):\n",
    "        return self.value\n",
    "    def setValue(self, v):\n",
    "        self.value = v\n",
    "    \n",
    "\n",
    "c1 = C(10)\n",
    "print(c1.getValue())\n",
    "\n",
    "c1.setValue(20)\n",
    "print(c1.getValue())"
   ]
  },
  {
   "cell_type": "code",
   "execution_count": 16,
   "metadata": {},
   "outputs": [
    {
     "name": "stdout",
     "output_type": "stream",
     "text": [
      "20\n",
      "0\n",
      "40\n",
      "-20\n"
     ]
    }
   ],
   "source": [
    "## 4. set / get 메소드를 사용하는 이유\n",
    "\n",
    "class Cal(object):\n",
    "    def __init__(self, v1, v2):\n",
    "        if isinstance(v1, int):\n",
    "            self.v1 = v1\n",
    "        if isinstance(v2, int):\n",
    "            self.v2 = v2\n",
    "    def add(self):\n",
    "        return self.v1+self.v2\n",
    "    def subtract(self):\n",
    "        return self.v1-self.v2\n",
    "    def setV1(self, v):\n",
    "        if isinstance(v, int): # isinstance : 인자1이 인자2의 인스턴스라면 True 아니면 Flase를 리턴\n",
    "            self.v1 = v\n",
    "    def getV1(self):\n",
    "        return self.v1\n",
    "\n",
    "c1 = Cal(10,10)\n",
    "print(c1.add())\n",
    "print(c1.subtract())\n",
    "\n",
    "# c1.v1 = 20\n",
    "# c1.v2 = 30\n",
    "# print(c1.add())\n",
    "# print(c1.subtract())\n",
    "\n",
    "# 아래와 같이 만들어버리면 문자 + 숫자니까 에러나겠죠\n",
    "c1.setV1('one')\n",
    "# v1에 숫자가 오기를 의도했겠지만 아닌 경우도 발생할 수 밖에 없음\n",
    "# 숫자가 아닌 값이 들어오면 무시하고 싶다면? 메소드를 쓰면 되죠!\n",
    "# 그래서 setV1 만들어 줍니다\n",
    "c1.v2 = 30\n",
    "print(c1.add())\n",
    "print(c1.subtract())"
   ]
  },
  {
   "cell_type": "code",
   "execution_count": 18,
   "metadata": {},
   "outputs": [
    {
     "name": "stdout",
     "output_type": "stream",
     "text": [
      "10\n"
     ]
    }
   ],
   "source": [
    "## 5. 속성 attribute\n",
    "# set/get 메소드 없이도 오류가 나지 않게 하려면 어떻게 할 수 있을까\n",
    "\n",
    "class C(object):\n",
    "    def __init__(self, v):\n",
    "        self.__value = v\n",
    "    def show(self):\n",
    "        print(self.__value)\n",
    "c1 = C(10)\n",
    "# 외부에서 수정하면 안돼서 변수를 숨기 수 있는 방법이 있다\n",
    "# 변수 앞에 언더바 두개를 붙이는 것. (__)\n",
    "# 이렇게 하면 외부에서 해당 변수에 접근하는 것이 금지된다\n",
    "# print(c1.__value) # 그래서 에러가 뜹니다!\n",
    "\n",
    "# 객체 내부에서는 접근이 가능해요\n",
    "c1.show()"
   ]
  }
 ],
 "metadata": {
  "kernelspec": {
   "display_name": "Python 3",
   "language": "python",
   "name": "python3"
  },
  "language_info": {
   "codemirror_mode": {
    "name": "ipython",
    "version": 3
   },
   "file_extension": ".py",
   "mimetype": "text/x-python",
   "name": "python",
   "nbconvert_exporter": "python",
   "pygments_lexer": "ipython3",
   "version": "3.7.4"
  }
 },
 "nbformat": 4,
 "nbformat_minor": 2
}
