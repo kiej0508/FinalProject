{
 "cells": [
  {
   "cell_type": "markdown",
   "metadata": {},
   "source": [
    "## 주의할 점 or 몰랐던 것\n",
    "\n",
    "- 코딩테스트 공부할 때 배열을 이용하라고 하면 자꾸 Numpy나 pandas를 이용하라는 소리로 알아들었는데 그런 라이브러리를 사용하지 말고 **리스트 자체를 제대로 활용**할 수 있도록 공부하자\n",
    "- 반복적으로 등장하는 코드가 있다면 언제나 개선의 여지가 있는 코드라는 것을 기억하자\n",
    "- **유지/보수**를 효과적으로 만드는게 반복문?"
   ]
  },
  {
   "cell_type": "markdown",
   "metadata": {},
   "source": [
    "### Cheat Sheet\n",
    "- 일종의 컨닝페이퍼\n",
    "- https://perso.limsi.fr/pointal/_media/python:cours:mementopython3-english.pdf\n",
    "- http://www.cheat-sheets.org/saved-copy/PQRC-2.4-A4-latest.pdf\n",
    "- http://overapi.com/python/\n",
    "\n",
    "### 컨테이너 (파이썬-List / 루비-Array)\n",
    "- 변수 : 컨테이너와 비슷한 속성 (name = \"egoing\")\n",
    "- 여러개의 값을 담을 수 없을까 (아래 예시처럼)   \n",
    "\n",
    "Egoing|Leezche|Graphittie\n",
    ":---:|:---:|:---:\n",
    "0|1|2\n",
    "|names|\n",
    "\n",
    "- 리스트 안에는 반드시 같은 데이터타입이 들어가야 하는 것은 아님\n",
    "- len(), 리스트.append(), del() 3가지는 왠만하면 기억하고, 다른 함수들은 레퍼런스를 잘 활용할 줄 알도록 하자"
   ]
  },
  {
   "cell_type": "code",
   "execution_count": 13,
   "metadata": {},
   "outputs": [
    {
     "name": "stdout",
     "output_type": "stream",
     "text": [
      "['programmer', 'busan', 25, False]\n"
     ]
    }
   ],
   "source": [
    "egoing = ['programmer', 'seoul', 25, False]\n",
    "egoing[1] = 'busan' # 배열의 1번째 위치 값을 해당 데이터로 다시 저장합니다\n",
    "print(egoing)"
   ]
  },
  {
   "cell_type": "markdown",
   "metadata": {},
   "source": [
    "### 영어와 프로그래밍\n",
    "- 영어공부를 꼭 해야 성장할 수 있따.......ㅠㅠ....."
   ]
  },
  {
   "cell_type": "markdown",
   "metadata": {},
   "source": [
    "### 반복문 Roop, Iterated\n",
    "- 반복적으로 등장하는 코드가 있다면 언제나 개선의 여지가 있는 코드라는 것을 기억하자   \n",
    "   \n",
    "   \n",
    "1. 반복 조건\n",
    "2. while문 활용\n",
    "    - break와 continue 더 디테일한 활용법을 알아볼까나\n",
    "3. 조건문과 반복문 Mix"
   ]
  },
  {
   "cell_type": "code",
   "execution_count": 14,
   "metadata": {},
   "outputs": [],
   "source": [
    "while False:\n",
    "    print('Hello world')"
   ]
  },
  {
   "cell_type": "code",
   "execution_count": 16,
   "metadata": {},
   "outputs": [
    {
     "name": "stdout",
     "output_type": "stream",
     "text": [
      "Hello world\n",
      "Hello world\n",
      "Hello world\n",
      "-----------\n",
      "Hello world 0\n",
      "Hello world 9\n",
      "Hello world 18\n",
      "Hello world 27\n",
      "Hello world 36\n",
      "Hello world 45\n",
      "Hello world 54\n",
      "Hello world 63\n",
      "Hello world 72\n",
      "Hello world 81\n",
      "-----------\n",
      "Hello world 0\n",
      "Hello world 9\n",
      "Hello world 18\n",
      "Hello world 27\n",
      "Hello world 36\n",
      "Hello world 45\n",
      "Hello world 54\n",
      "Hello world 63\n",
      "Hello world 72\n",
      "Hello world 81\n"
     ]
    }
   ],
   "source": [
    "i=0\n",
    "while i<3:\n",
    "    print('Hello world')\n",
    "    i+=1\n",
    "\n",
    "print(\"-----------\")\n",
    "\n",
    "i=0\n",
    "while i<10:\n",
    "    print('Hello world '+str(i*9))\n",
    "    i+=1\n",
    "\n",
    "print(\"-----------\")\n",
    "\n",
    "i=0\n",
    "while i<10:\n",
    "    print('Hello world {}'.format(i*9))\n",
    "    i+=1"
   ]
  },
  {
   "cell_type": "code",
   "execution_count": 18,
   "metadata": {},
   "outputs": [
    {
     "name": "stdout",
     "output_type": "stream",
     "text": [
      "4\n",
      "-----------\n",
      "0\n",
      "1\n",
      "2\n",
      "3\n"
     ]
    }
   ],
   "source": [
    "i = 0\n",
    "while i < 10:\n",
    "    if i == 4:\n",
    "        print(i)\n",
    "    i = i + 1\n",
    "\n",
    "print(\"-----------\")\n",
    "\n",
    "i = 0\n",
    "while i < 10:\n",
    "    if i == 4:\n",
    "        break\n",
    "    print(i)\n",
    "    i = i + 1"
   ]
  },
  {
   "cell_type": "markdown",
   "metadata": {},
   "source": [
    "### 컨테이너와 반복문\n",
    "- for문 활용"
   ]
  },
  {
   "cell_type": "code",
   "execution_count": 21,
   "metadata": {},
   "outputs": [
    {
     "name": "stdout",
     "output_type": "stream",
     "text": [
      "egoing\n",
      "leezche\n",
      "graphittie\n",
      "-----------\n",
      "egoing\n",
      "leezche\n",
      "graphittie\n",
      "-----------\n",
      "egoing\n",
      "leezche\n",
      "graphittie\n"
     ]
    }
   ],
   "source": [
    "members = ['egoing', 'leezche', 'graphittie']\n",
    "print(members[0])\n",
    "print(members[1])\n",
    "print(members[2])\n",
    "\n",
    "print(\"-----------\")\n",
    "\n",
    "i=0\n",
    "while i<len(members):\n",
    "    print(members[i])\n",
    "    i+=1\n",
    "\n",
    "print(\"-----------\")\n",
    "\n",
    "for m in members:\n",
    "    print(m)"
   ]
  },
  {
   "cell_type": "code",
   "execution_count": 25,
   "metadata": {},
   "outputs": [
    {
     "name": "stdout",
     "output_type": "stream",
     "text": [
      "0\n",
      "1\n",
      "2\n",
      "3\n",
      "4\n",
      "-----------\n",
      "0\n",
      "1\n",
      "2\n",
      "3\n",
      "4\n",
      "-----------\n",
      "5\n",
      "6\n",
      "7\n",
      "8\n",
      "9\n",
      "10\n",
      "-----------\n",
      "5\n",
      "6\n",
      "7\n",
      "8\n",
      "9\n",
      "10\n"
     ]
    }
   ],
   "source": [
    "for item in [0, 1, 2, 3, 4]:\n",
    "    print(item)\n",
    "\n",
    "print(\"-----------\")\n",
    "\n",
    "for item in range(5):\n",
    "    print(item)\n",
    "\n",
    "print(\"-----------\")\n",
    "\n",
    "for item in [5, 6, 7, 8, 9, 10]:\n",
    "    print(item)\n",
    "\n",
    "print(\"-----------\")\n",
    "for item in range(5, 11):\n",
    "    print(item)"
   ]
  },
  {
   "cell_type": "markdown",
   "metadata": {},
   "source": [
    "### 반복문을 활용한 로그인 프로그램 개선\n",
    "- sys.exit() : 프로그램 자체를 종료하는건가? 맞다는군"
   ]
  },
  {
   "cell_type": "code",
   "execution_count": 27,
   "metadata": {},
   "outputs": [
    {
     "name": "stdout",
     "output_type": "stream",
     "text": [
      "아이디를 입력해주세요.\n",
      "egoing\n",
      "패스워드를 입력해주시요.\n",
      "1111\n",
      "Hello, World!\n",
      "Who are you?\n"
     ]
    }
   ],
   "source": [
    "in_id = input(\"아이디를 입력해주세요.\\n\")\n",
    "in_pw = input(\"패스워드를 입력해주시요.\\n\")\n",
    "\n",
    "members_id = ['egoing', 'leezche', 'graphittie']\n",
    "members_pw = ['1111', '2222', '3333']\n",
    "\n",
    "for i, p in zip(members_id, members_pw):\n",
    "    if i==in_id and p==in_pw:\n",
    "        print(\"Hello, World!\")\n",
    "    \n",
    "print(\"Who are you?\")"
   ]
  }
 ],
 "metadata": {
  "kernelspec": {
   "display_name": "Python 3",
   "language": "python",
   "name": "python3"
  },
  "language_info": {
   "codemirror_mode": {
    "name": "ipython",
    "version": 3
   },
   "file_extension": ".py",
   "mimetype": "text/x-python",
   "name": "python",
   "nbconvert_exporter": "python",
   "pygments_lexer": "ipython3",
   "version": "3.7.4"
  }
 },
 "nbformat": 4,
 "nbformat_minor": 2
}
