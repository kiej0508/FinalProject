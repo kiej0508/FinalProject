{
 "cells": [
  {
   "cell_type": "markdown",
   "metadata": {},
   "source": [
    "## 클래스 멤버\n",
    "\n",
    "1. 클래스에 소속된 변수와 메소드\n",
    "    - 인스턴스에 속한 변수/메소드와는 다릅니다. \n",
    "    - 인스턴스에 속한 경우, 각각의 메소드가 누구의 소속이냐에 따라서 소속된 인스턴스의 내부값을 이용하여 결과를 리턴함\n",
    "    - 인스턴스의 핵심은 '특정한 정보'를 가지고 있다\n",
    "    - 클래스에 소속되는 것들은 '특정한 정보'에 종속되지 않는다"
   ]
  },
  {
   "cell_type": "code",
   "execution_count": 2,
   "metadata": {},
   "outputs": [
    {
     "name": "stdout",
     "output_type": "stream",
     "text": [
      "Static\n",
      "Class\n",
      "Instance\n"
     ]
    }
   ],
   "source": [
    "### 메소드\n",
    "# 클래스 메소드는 staticmethod / classmethod 두가지가 있음\n",
    "# 두개의 차이는 나중에!\n",
    "\n",
    "class Cs():\n",
    "    @staticmethod\n",
    "    def static_method():\n",
    "        print(\"Static\")\n",
    "    @classmethod\n",
    "    def class_method(cls):\n",
    "        print(\"Class\")\n",
    "    def instance_method(self):\n",
    "        print(\"Instance\")\n",
    "\n",
    "Cs.static_method() #그냥 클래스 자체에서 메소드를 불러옴\n",
    "Cs.class_method() #그냥 클래스 자체에서 메소드를 불러옴\n",
    "i = Cs() #객체를 생성해서 클래스 안의 메소드를 불러옴\n",
    "i.instance_method()"
   ]
  },
  {
   "cell_type": "code",
   "execution_count": 9,
   "metadata": {},
   "outputs": [
    {
     "name": "stdout",
     "output_type": "stream",
     "text": [
      "4\n"
     ]
    }
   ],
   "source": [
    "### 변수\n",
    "#클래스의 안 & 클래스에서 만들어진 메소드 밖에서 만든 변수는 클래스 소속입니다.\n",
    "#같은 클래스에 들어있다더라도, 클래스의 변수에 접근하려면 클래스.변수로 접근해야 합니다.\n",
    "\n",
    "class Cs():\n",
    "    count = 0 #클래스 변수!    \n",
    "    \n",
    "    def __init__(self):#객체가 생성될때마다 카운트가 증가하는 생성자를 만들자\n",
    "        Cs.count = Cs.count + 1\n",
    "    \n",
    "    @classmethod\n",
    "    def getCount(cls):\n",
    "        return Cs.count\n",
    "\n",
    "i1 = Cs()\n",
    "i2 = Cs()\n",
    "i3 = Cs()\n",
    "i4 = Cs()\n",
    "print(Cs.getCount())"
   ]
  },
  {
   "cell_type": "code",
   "execution_count": 12,
   "metadata": {},
   "outputs": [
    {
     "name": "stdout",
     "output_type": "stream",
     "text": [
      "20 <__main__.CalMultiply object at 0x00000187127A5848>\n",
      "30 <__main__.CalDivide object at 0x00000187127A5A08>\n",
      "100 <__main__.CalMultiply object at 0x00000187127A5848>\n",
      "200 <__main__.CalDivide object at 0x00000187127A5A08>\n",
      "200 <__main__.CalDivide object at 0x00000187127A5A08>\n",
      "add : 10+10=20\n",
      "add : 20+10=30\n",
      "multiply : 10*10=100\n",
      "multiply : 20*10=200\n",
      "divide : 20/10=200\n"
     ]
    }
   ],
   "source": [
    "### 클래스 멤버의 활용\n",
    "\n",
    "class Cal(object):\n",
    "    _history = []\n",
    "    def __init__(self, v1, v2):\n",
    "        if isinstance(v1, int):\n",
    "            self.v1 = v1\n",
    "        if isinstance(v2, int):\n",
    "            self.v2 = v2\n",
    "    def add(self):\n",
    "        result = self.v1 + self.v2\n",
    "        Cal._history.append(\"add : %d+%d=%d\" % (self.v1, self.v2, result))\n",
    "        return result\n",
    "    def subtract(self):\n",
    "        result = self.v1 - self.v2\n",
    "        Cal._history.append(\"subtract : %d-%d=%d\" % (self.v1, self.v2, result))\n",
    "        return result\n",
    "    def setV1(self,v):\n",
    "        if isinstance(v,int):\n",
    "            self.v1 = v\n",
    "    def getV1(self,v):\n",
    "        return self.v1\n",
    "    @classmethod\n",
    "    def history(cls):\n",
    "        for item in Cal._history:\n",
    "            print(item)\n",
    "\n",
    "class CalMultiply(Cal):\n",
    "    def multiply(self):\n",
    "        result = self.v1 * self.v2\n",
    "        Cal._history.append(\"multiply : %d*%d=%d\" % (self.v1, self.v2, result))\n",
    "        return result\n",
    "\n",
    "class CalDivide(CalMultiply):\n",
    "    def divide(self):\n",
    "        result = self.v1 * self.v2\n",
    "        Cal._history.append(\"divide : %d/%d=%d\" % (self.v1, self.v2, result))\n",
    "        return result\n",
    "\n",
    "c1 = CalMultiply(10,10)\n",
    "c2 = CalDivide(20,10)\n",
    "\n",
    "print(c1.add(), c1)\n",
    "print(c2.add(), c2)\n",
    "\n",
    "print(c1.multiply(), c1)\n",
    "print(c2.multiply(), c2)\n",
    "\n",
    "print(c2.divide(), c2)\n",
    "\n",
    "Cal.history()"
   ]
  },
  {
   "cell_type": "code",
   "execution_count": null,
   "metadata": {},
   "outputs": [],
   "source": []
  }
 ],
 "metadata": {
  "kernelspec": {
   "display_name": "Python 3",
   "language": "python",
   "name": "python3"
  },
  "language_info": {
   "codemirror_mode": {
    "name": "ipython",
    "version": 3
   },
   "file_extension": ".py",
   "mimetype": "text/x-python",
   "name": "python",
   "nbconvert_exporter": "python",
   "pygments_lexer": "ipython3",
   "version": "3.7.4"
  }
 },
 "nbformat": 4,
 "nbformat_minor": 2
}
